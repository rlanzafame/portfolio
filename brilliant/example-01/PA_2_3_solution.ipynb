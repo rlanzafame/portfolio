{
 "cells": [
  {
   "cell_type": "markdown",
   "id": "883da3d5",
   "metadata": {},
   "source": [
    "# PA 2.3: iTer-remoto\n",
    "\n",
    "<h1 style=\"position: absolute; display: flex; flex-grow: 0; flex-shrink: 0; flex-direction: row-reverse; top: 60px;right: 30px; margin: 0; border: 0\">\n",
    "    <style>\n",
    "        .markdown {width:100%; position: relative}\n",
    "        article { position: relative }\n",
    "    </style>\n",
    "    <img src=\"https://gitlab.tudelft.nl/mude/public/-/raw/main/tu-logo/TU_P1_full-color.png\" style=\"width:100px\" />\n",
    "    <img src=\"https://gitlab.tudelft.nl/mude/public/-/raw/main/mude-logo/MUDE_Logo-small.png\" style=\"width:100px\" />\n",
    "</h1>\n",
    "<h2 style=\"height: 10px\">\n",
    "</h2>\n",
    "\n",
    "*[CEGM1000 MUDE](http://mude.citg.tudelft.nl/): Week 2.3. Due: complete this PA prior to class on **Wednesday**, Nov 27!).*\n",
    "\n",
    "**Note that the Wednesday workshop will use stem plots, so we strongly encourage you to do this early in the week!**"
   ]
  },
  {
   "cell_type": "code",
   "execution_count": 1,
   "id": "75681df5-7a73-469a-ad83-ebd05451e0b7",
   "metadata": {
    "tags": []
   },
   "outputs": [],
   "source": [
    "import numpy as np\n",
    "import matplotlib.pyplot as plt"
   ]
  },
  {
   "cell_type": "markdown",
   "id": "b0584fa2-7f4b-4566-9217-e6ca58d0e191",
   "metadata": {},
   "source": [
    "## Introduction\n",
    "\n",
    "Suppose we are writing code to summarize some simple data, perhaps a group of teams that each have a score for a particular game."
   ]
  },
  {
   "cell_type": "code",
   "execution_count": 2,
   "id": "4d6bb586-3ade-473e-8dd7-19dd350fa3f6",
   "metadata": {
    "tags": []
   },
   "outputs": [],
   "source": [
    "team = ['green', 'red', 'blue']\n",
    "score = [5, 9, 7]"
   ]
  },
  {
   "cell_type": "markdown",
   "id": "07ed2fba-5f83-47d8-af7e-b3a83bebbbbf",
   "metadata": {},
   "source": [
    "Suppose we want to list the names of each team. One typical approach is to loop over each item in the list:"
   ]
  },
  {
   "cell_type": "code",
   "execution_count": 3,
   "id": "878ff8c2-fe3c-421a-b1d8-400450fc6bf5",
   "metadata": {
    "tags": []
   },
   "outputs": [
    {
     "name": "stdout",
     "output_type": "stream",
     "text": [
      "The team names are:\n",
      "green\n",
      "red\n",
      "blue\n"
     ]
    }
   ],
   "source": [
    "N_teams = len(team)\n",
    "print('The team names are:')\n",
    "for i in range(N_teams):\n",
    "    print(f'{team[i]}')"
   ]
  },
  {
   "cell_type": "markdown",
   "id": "172fea58-dd93-4af0-a09c-f4129338ab54",
   "metadata": {},
   "source": [
    "However, this is not the most efficient way to do this, as we need to define two extra variables: `N_teams` and the iteration index `i`. There is a better way! \n",
    "\n",
    "## Iterable Objects\n",
    "\n",
    "Python supports what is referred to as _iterable_ objects: generally, this means objects that can be easily used by Python's built-in and efficient iteration schemes. Examples are: list, tuple, dictionaries, and strings. You may be interested in reading about all of [the technical details here](https://docs.python.org/3/glossary.html#term-iterator); however, for this assignment the explanations here and examples below are sufficient. It is important to recognize this type of object exists in Python, so we can take advantage of it in our code, or so you can recognize the algorithms in other authors code.\n",
    "\n",
    "Let's see an iterable object in action. First, an easy way to test if an object is iterable is to use it as an argument of the `iter()` method:"
   ]
  },
  {
   "cell_type": "code",
   "execution_count": 4,
   "id": "fc48118b-014b-4044-95fc-787e110de380",
   "metadata": {
    "tags": []
   },
   "outputs": [
    {
     "data": {
      "text/plain": [
       "<list_iterator at 0x1e90e230400>"
      ]
     },
     "execution_count": 4,
     "metadata": {},
     "output_type": "execute_result"
    }
   ],
   "source": [
    "iter(team)"
   ]
  },
  {
   "cell_type": "markdown",
   "id": "111ef874-1b80-45fc-bb2c-ce9f7982681b",
   "metadata": {},
   "source": [
    "Other objects can also be made into an iterator, like numpy arrays:"
   ]
  },
  {
   "cell_type": "code",
   "execution_count": 5,
   "id": "ee686157-6923-4d2e-b74f-35ed1049c70f",
   "metadata": {
    "tags": []
   },
   "outputs": [
    {
     "data": {
      "text/plain": [
       "<iterator at 0x1e90f3e5780>"
      ]
     },
     "execution_count": 5,
     "metadata": {},
     "output_type": "execute_result"
    }
   ],
   "source": [
    "iter(np.array([1, 5, 67]))"
   ]
  },
  {
   "cell_type": "markdown",
   "id": "e4302934-4828-4dcd-bc3b-eafbc59ad199",
   "metadata": {},
   "source": [
    "The cell above should return `iterator`, which indicates the object (argument) is iterable. An integer, however, is _not_ iterable. "
   ]
  },
  {
   "cell_type": "markdown",
   "id": "41269037-161e-4c50-9dd7-5346bfc41b7a",
   "metadata": {},
   "source": [
    "<div style=\"background-color:#AABAB2; color: black; width: 95%; vertical-align: middle; padding:15px; margin: 10px; border-radius: 10px\">\n",
    "<p>\n",
    "<b>Task 1:</b>   \n",
    "    \n",
    "Try running the code below to confirm that an integer is not iterable (an error will occur), then fix it by converting the argument to an iterable object. Experiment by turning the integer into a list, string and np.array. \n",
    "</p>\n",
    "</div>"
   ]
  },
  {
   "cell_type": "code",
   "execution_count": 6,
   "id": "5b65450f-dd18-4456-ac6b-d4856ae47b23",
   "metadata": {
    "tags": []
   },
   "outputs": [
    {
     "data": {
      "text/plain": [
       "<iterator at 0x1e90e07b970>"
      ]
     },
     "execution_count": 6,
     "metadata": {},
     "output_type": "execute_result"
    }
   ],
   "source": [
    "# iter(5)\n",
    "\n",
    "# SOLUTION\n",
    "iter([5])\n",
    "iter('5')\n",
    "iter(np.array([5]))"
   ]
  },
  {
   "cell_type": "markdown",
   "id": "47cf00b4-6946-44e6-bbeb-4176eb1e5674",
   "metadata": {},
   "source": [
    "Great, you can make an iterator! But what do you _do_ with it? \n",
    "\n",
    "_Most of the time we simply use it in a `for` loop, but it is worthwhile to understand this object a bit more deeply._\n",
    "\n",
    "One simple way to understand an iterator is to imagine that it is a way of (efficiently!) turning your iterable object into something that can go sequentially through all its values. To do this it has two \"abilities\":\n",
    "\n",
    "1. the iterator knows its current value, and \n",
    "2. the iterator knows its next value\n",
    "\n",
    "Let's try using the iterator by running the following cells:"
   ]
  },
  {
   "cell_type": "code",
   "execution_count": 7,
   "id": "f98b14ac-aa6b-4342-ba0f-faef9bc3f2b4",
   "metadata": {
    "tags": []
   },
   "outputs": [],
   "source": [
    "letters = 'abcde'\n",
    "letter_iterator = iter(letters)"
   ]
  },
  {
   "cell_type": "markdown",
   "id": "6a48aadf-4e61-4c01-a23c-f0c28f7615e9",
   "metadata": {},
   "source": [
    "Nothing new yet, but now watch what happens when we use the Python built-in command `next()`\n",
    "\n",
    "_Run the cell multiple times._"
   ]
  },
  {
   "cell_type": "code",
   "execution_count": 8,
   "id": "a925cca3-ad71-4744-a6c8-7d578c7b69f0",
   "metadata": {
    "tags": []
   },
   "outputs": [
    {
     "data": {
      "text/plain": [
       "'a'"
      ]
     },
     "execution_count": 8,
     "metadata": {},
     "output_type": "execute_result"
    }
   ],
   "source": [
    "next(letter_iterator)"
   ]
  },
  {
   "cell_type": "markdown",
   "id": "fbc2e084-0032-42ec-9d21-9cec68d4e6ec",
   "metadata": {},
   "source": [
    "There are two key things to note here:\n",
    "\n",
    "1. The iterator \"knows\" how to go through all of its values, and\n",
    "2. Calls to `next` returns to value itself, _not the index!_\n",
    "\n",
    "This is a very useful feature, as we can see in this simple example below:"
   ]
  },
  {
   "cell_type": "code",
   "execution_count": 9,
   "id": "59642a7a-df92-44e0-984d-f054f1e5162d",
   "metadata": {
    "tags": []
   },
   "outputs": [
    {
     "name": "stdout",
     "output_type": "stream",
     "text": [
      "a\n",
      "b\n",
      "c\n",
      "d\n",
      "e\n"
     ]
    }
   ],
   "source": [
    "for i in letters:\n",
    "    print(i)"
   ]
  },
  {
   "cell_type": "markdown",
   "id": "5629acaa-81b5-43e3-bd27-7713ad5b2ae2",
   "metadata": {},
   "source": [
    "Obviously this is a simple `for` loop, but hopefully the explanation above indicates what is actually happening \"under the hood\" of the `for` loop:\n",
    " \n",
    "1. identifies `letters` as an iterable object\n",
    "2. converts it into an iterator, and then it\n",
    "3. finds the next value in the sequence and assigns it to variable `i`\n",
    "4. stop once there is no next value\n",
    " \n",
    "This is a bit of a simplification of what happens in reality, but it gets the idea across.\n",
    "\n",
    "Now let's take a look at something you have probably used a lot: the `range()` method:"
   ]
  },
  {
   "cell_type": "code",
   "execution_count": 10,
   "id": "16660b30-08ba-43dd-8ddd-d34f5fa8f094",
   "metadata": {
    "tags": []
   },
   "outputs": [
    {
     "name": "stdout",
     "output_type": "stream",
     "text": [
      "<class 'range'>\n",
      "range(0, 5)\n"
     ]
    }
   ],
   "source": [
    "print(type(range(5)))\n",
    "print(range(5))"
   ]
  },
  {
   "cell_type": "markdown",
   "id": "0531da9d-bec3-4d57-a653-0b1e58f54523",
   "metadata": {},
   "source": [
    "Although it looks like it produces a tuple, `range` is a special iterable object that simply counts. As we can see it works the same as our `for` loop above:"
   ]
  },
  {
   "cell_type": "code",
   "execution_count": 11,
   "id": "04019b3e-9853-449c-a230-4c9033f55311",
   "metadata": {
    "tags": []
   },
   "outputs": [
    {
     "name": "stdout",
     "output_type": "stream",
     "text": [
      "0\n",
      "1\n",
      "2\n",
      "3\n",
      "4\n"
     ]
    }
   ],
   "source": [
    "for i in range(5):\n",
    "    print(i)"
   ]
  },
  {
   "cell_type": "markdown",
   "id": "09db8005-1a9b-45b0-aac8-9821ea087fd9",
   "metadata": {},
   "source": [
    "Hopefully this explains why `range` is such a useful feature for accessing sequential indexed elements of arrays.\n",
    "\n",
    "It turns out there are two more built-in Python methods that produce useful iterable objects: `enumerate` and `zip`. Let's take a look ath their doc strings."
   ]
  },
  {
   "cell_type": "markdown",
   "id": "0eb9605e-b4bf-4dc1-9a38-b64e78ff8563",
   "metadata": {},
   "source": [
    "<div style=\"background-color:#AABAB2; color: black; width: 95%; vertical-align: middle; padding:15px; margin: 10px; border-radius: 10px\">\n",
    "<p>\n",
    "<b>Task 2:</b>   \n",
    "    \n",
    "Read the docstrings below for the two methods. Confirm that they produce an iterable, but compare them to observe how the input and output of each is different. Can you imagine why one could be more useful than another in certain situations?\n",
    "</p>\n",
    "</div>"
   ]
  },
  {
   "cell_type": "markdown",
   "id": "045f749d-1d12-4f70-954e-301ddcd9be32",
   "metadata": {},
   "source": [
    "\n",
    "`enumerate`:\n",
    "\n",
    "```Python\n",
    "Init signature: enumerate(iterable, start=0)\n",
    "Docstring:     \n",
    "Return an enumerate object.\n",
    "\n",
    "  iterable\n",
    "    an object supporting iteration\n",
    "\n",
    "The enumerate object yields pairs containing a count (from start, which\n",
    "defaults to zero) and a value yielded by the iterable argument.\n",
    "\n",
    "enumerate is useful for obtaining an indexed list:\n",
    "    (0, seq[0]), (1, seq[1]), (2, seq[2]), ...\n",
    "```\n",
    "\n",
    "And `zip`:\n",
    "\n",
    "```Python\n",
    "Init signature: zip(self, /, *args, **kwargs)\n",
    "Docstring:     \n",
    "zip(*iterables, strict=False) --> Yield tuples until an input is exhausted.\n",
    "\n",
    "   >>> list(zip('abcdefg', range(3), range(4)))\n",
    "   [('a', 0, 0), ('b', 1, 1), ('c', 2, 2)]\n",
    "\n",
    "The zip object yields n-length tuples, where n is the number of iterables\n",
    "passed as positional arguments to zip().  The i-th element in every tuple\n",
    "comes from the i-th iterable argument to zip().  This continues until the\n",
    "shortest argument is exhausted.\n",
    "\n",
    "If strict is true and one of the arguments is exhausted before the others,\n",
    "raise a ValueError.\n",
    "```"
   ]
  },
  {
   "cell_type": "markdown",
   "id": "f7b34d40-e7c3-477c-9a78-68d26ea2dd81",
   "metadata": {},
   "source": [
    "<br><br><br><br><br><br><br><br><br><br><br>\n",
    "\n",
    "The main takeaways, should be as follows:\n",
    "\n",
    "1. Yes, they both produce an iterator\n",
    "2. `enumerate` takes one iterable object and returns indices along with the value\n",
    "3. `zip` takes two iterable objects and returns their values\n",
    "\n",
    "Let's try them out by running the next cell. Does it behave as expected?"
   ]
  },
  {
   "cell_type": "code",
   "execution_count": 12,
   "id": "bdea9148-e2b0-4107-92b5-61a83de02efc",
   "metadata": {
    "tags": []
   },
   "outputs": [
    {
     "name": "stdout",
     "output_type": "stream",
     "text": [
      "We created: <enumerate object at 0x000001E90F50A070>\n",
      "(0, 'r') (1, 'o') (2, 'b')\n",
      "We created: <zip object at 0x000001E90F519F40>\n",
      "('r', 2) ('o', 3) ('b', 36)\n"
     ]
    }
   ],
   "source": [
    "thing_1 = 'roberts_string'\n",
    "thing_2 = [2, 3, 36, 3., 1., 's', 7, '3']\n",
    "\n",
    "test_1 = enumerate(thing_1)\n",
    "print(f'We created: {test_1}')\n",
    "print(next(test_1), next(test_1), next(test_1))\n",
    "\n",
    "test_2 = zip(thing_1, thing_2)\n",
    "print(f'We created: {test_2}')\n",
    "print(next(test_2), next(test_2), next(test_2))"
   ]
  },
  {
   "cell_type": "markdown",
   "id": "d72f609b-0167-40f4-8e8f-c4476acf6417",
   "metadata": {},
   "source": [
    "Can you see the difference?\n",
    "\n",
    "Looking at them in a for loop will also illustrate what's going on:"
   ]
  },
  {
   "cell_type": "code",
   "execution_count": 13,
   "id": "f3687fdf-c949-44f7-b5df-961e63703d59",
   "metadata": {},
   "outputs": [
    {
     "name": "stdout",
     "output_type": "stream",
     "text": [
      "First, enumerate:\n",
      "0 r\n",
      "1 o\n",
      "2 b\n",
      "3 e\n",
      "4 r\n",
      "5 t\n",
      "6 s\n",
      "7 _\n",
      "8 s\n",
      "9 t\n",
      "10 r\n",
      "11 i\n",
      "12 n\n",
      "13 g\n",
      "\n",
      "Then, zip:\n",
      "r 2\n",
      "o 3\n",
      "b 36\n",
      "e 3.0\n",
      "r 1.0\n",
      "t s\n",
      "s 7\n",
      "_ 3\n"
     ]
    }
   ],
   "source": [
    "print('First, enumerate:')\n",
    "for i, j in enumerate(thing_1):\n",
    "    print(i, j)\n",
    "print('\\nThen, zip:')    \n",
    "for i, j in zip(thing_1, thing_2):\n",
    "    print(i, j)"
   ]
  },
  {
   "cell_type": "markdown",
   "id": "3eedb9f0-29f9-4fea-b9ab-742f40ea8813",
   "metadata": {},
   "source": [
    "Now let's return to our teams from the beginning of this assignment: let's apply our knowledge of `enumerate` and `zip` to see if we can print out the points per team in an efficient way."
   ]
  },
  {
   "cell_type": "markdown",
   "id": "bf6e780a-d153-4e68-b7f5-c4b83ffd564f",
   "metadata": {},
   "source": [
    "<div style=\"background-color:#AABAB2; color: black; width: 95%; vertical-align: middle; padding:15px; margin: 10px; border-radius: 10px\">\n",
    "<p>\n",
    "<b>Task 3:</b>   \n",
    "    \n",
    "Use <code>enumerate</code> to print out the summary of points per team according to the print statement.\n",
    "<br><br>\n",
    "<em>Hint: you only need to use one of the lists as an argument.</em>\n",
    "</p>\n",
    "</div>"
   ]
  },
  {
   "cell_type": "code",
   "execution_count": 14,
   "id": "73ea50cb-5c87-4f84-b618-4dd9ae38cc0c",
   "metadata": {},
   "outputs": [
    {
     "name": "stdout",
     "output_type": "stream",
     "text": [
      "Team green has 5 points.\n",
      "Team red has 9 points.\n",
      "Team blue has 7 points.\n"
     ]
    }
   ],
   "source": [
    "# team = ['green', 'red', 'blue']\n",
    "# score = [5, 9, 7]\n",
    "\n",
    "# for YOUR_CODE_WITH_enumerate_HERE:\n",
    "#     print(f'Team {} has {} points.')\n",
    "\n",
    "# SOLUTION\n",
    "team = ['green', 'red', 'blue']\n",
    "score = [5, 9, 7]\n",
    "\n",
    "for i, j in enumerate(score):\n",
    "    print(f'Team {team[i]} has {j} points.')"
   ]
  },
  {
   "cell_type": "markdown",
   "id": "ac1ef287-e43a-4c78-9536-bdba4828906f",
   "metadata": {},
   "source": [
    "You may have noticed that `enumerate` is a bit awkward for this case, since we still need to define an unnecessary iteration index to access the team name. Let's see if `zip` makes things easier:"
   ]
  },
  {
   "cell_type": "markdown",
   "id": "0bdfde09-88cf-4358-9af0-edc9c75acabf",
   "metadata": {},
   "source": [
    "<div style=\"background-color:#AABAB2; color: black; width: 95%; vertical-align: middle; padding:15px; margin: 10px; border-radius: 10px\">\n",
    "<p>\n",
    "<b>Task 4:</b>   \n",
    "    \n",
    "Use <code>zip</code> to print out the summary of points per team according to the print statement.\n",
    "</p>\n",
    "</div>"
   ]
  },
  {
   "cell_type": "code",
   "execution_count": 15,
   "id": "6bcfc8a9-57a1-41db-8449-fe689def8b5a",
   "metadata": {},
   "outputs": [
    {
     "name": "stdout",
     "output_type": "stream",
     "text": [
      "Team green has 5 points.\n",
      "Team red has 9 points.\n",
      "Team blue has 7 points.\n"
     ]
    }
   ],
   "source": [
    "# team = ['green', 'red', 'blue']\n",
    "# score = [5, 9, 7]\n",
    "\n",
    "# for YOUR_CODE_WITH_zip_HERE:\n",
    "#     print(f'Team {} has {} points.')\n",
    "\n",
    "# SOLUTION\n",
    "team = ['green', 'red', 'blue']\n",
    "score = [5, 9, 7]\n",
    "\n",
    "for i, j in zip(team, score):\n",
    "    print(f'Team {i} has {j} points.')"
   ]
  },
  {
   "cell_type": "markdown",
   "id": "52484324",
   "metadata": {},
   "source": [
    "<div style=\"background-color:#AABAB2; color: black; width: 95%; vertical-align: middle; padding:15px; margin: 10px; border-radius: 10px\">\n",
    "<p>\n",
    "<b>Task 7:</b>   \n",
    "    \n",
    "Using the tools described in this assignment, recreate the plot above. Note that to avoid cluttering the figure, the detailed earthquake information is only plotted for years that are a multiple of 5 (i.e., 2000, 2005, etc.).\n",
    "</p>\n",
    "</div>"
   ]
  },
  {
   "cell_type": "markdown",
   "id": "edd3cf5a-4ad3-47ed-be1d-6aa8dc1cbd88",
   "metadata": {},
   "source": [
    "That's really compact!"
   ]
  },
  {
   "cell_type": "markdown",
   "id": "bf60de78-247e-458e-9235-25ca4e2e4eb0",
   "metadata": {},
   "source": [
    "## Modulo Operator `%`\n",
    "\n",
    "The modulo operator `%` is common in programming languanges, but not so much in our typical engineering problems. It turns out it can be very useful in iteration loops. It's actually quite simple: _the expression_ `a % b` _returns the remainder of `a/b`._ That's it!\n",
    "\n",
    "Take a look at the folloiwing examples that illustrate the operator:"
   ]
  },
  {
   "cell_type": "code",
   "execution_count": 16,
   "id": "3db0d267-1440-4846-aca1-5a1fcb2d6c0f",
   "metadata": {
    "tags": []
   },
   "outputs": [
    {
     "name": "stdout",
     "output_type": "stream",
     "text": [
      "1\n",
      "5\n",
      "1\n",
      "0\n",
      "0\n"
     ]
    }
   ],
   "source": [
    "print(6 % 5)\n",
    "print(5 % 6)\n",
    "print(1 % 10)\n",
    "print(5 % 5)\n",
    "print(0 % 5)"
   ]
  },
  {
   "cell_type": "markdown",
   "id": "123bf24c-913e-43dd-ae19-630711f2c8e6",
   "metadata": {},
   "source": [
    "You can't divide by zero, just as in normal division.\n",
    "\n",
    "Below is an illustration for how the modulo is useful for doing things in a `for` loop that doesn't need to be done on every iteration."
   ]
  },
  {
   "cell_type": "code",
   "execution_count": 17,
   "id": "55f4af15-fc83-4233-ad80-93487141ca11",
   "metadata": {
    "tags": []
   },
   "outputs": [
    {
     "name": "stdout",
     "output_type": "stream",
     "text": [
      "0\n",
      "25\n",
      "50\n",
      "75\n"
     ]
    }
   ],
   "source": [
    "for i in range(100):\n",
    "    if i%25 == 0:\n",
    "        print(i)"
   ]
  },
  {
   "cell_type": "markdown",
   "id": "c2277b2c-19ed-41ca-912c-c62ed8b836a8",
   "metadata": {
    "tags": []
   },
   "source": [
    "<div style=\"background-color:#AABAB2; color: black; width: 95%; vertical-align: middle; padding:15px; margin: 10px; border-radius: 10px\">\n",
    "<p>\n",
    "<b>Task 5:</b>   \n",
    "    \n",
    "Experiment with the two Python cells above and make sure you understand what the modulo operator is and how it works.\n",
    "</p>\n",
    "</div>"
   ]
  },
  {
   "cell_type": "markdown",
   "id": "688ce8a1-c990-4f9c-b750-43c6b235a8e4",
   "metadata": {},
   "source": [
    "We won't do anything else with `%` now, but will apply this in the last task of the assignment."
   ]
  },
  {
   "cell_type": "markdown",
   "id": "9df653a5-7e35-402c-a89c-4c1ef10802c0",
   "metadata": {
    "tags": []
   },
   "source": [
    "## Stem Plot Type\n",
    "\n",
    "You have probably used the matplotlib plot types `plot`, `hist` and `scatter` frequently; another type is `stem`, which is useful for indicating the magnitude of various points along a number line. As with a scatter plot, the data does not need to be ordered, and missing values are easy to handle."
   ]
  },
  {
   "cell_type": "markdown",
   "id": "f0ec055f-0e8a-469d-8463-afba0379d839",
   "metadata": {},
   "source": [
    "<div style=\"background-color:#AABAB2; color: black; width: 95%; vertical-align: middle; padding:15px; margin: 10px; border-radius: 10px\">\n",
    "<p>\n",
    "<b>Task 6:</b>   \n",
    "    \n",
    "Run the cell below and play with the values to make sure you are comfortable with the stem plot type. Do you see how it can handle two values with the same index?\n",
    "</p>\n",
    "</div>"
   ]
  },
  {
   "cell_type": "code",
   "execution_count": 18,
   "id": "835f184e-005a-4d2e-a673-0257a10660ad",
   "metadata": {
    "tags": []
   },
   "outputs": [
    {
     "data": {
      "image/png": "[encoded data removed]",
      "text/plain": [
       "<Figure size 640x480 with 1 Axes>"
      ]
     },
     "metadata": {},
     "output_type": "display_data"
    }
   ],
   "source": [
    "value = [2, 7, 5, 1, 8]\n",
    "index = [0, 2, 2, 6, 4]\n",
    "plt.plot(index, value, 'o')\n",
    "plt.stem(index, value);"
   ]
  },
  {
   "cell_type": "markdown",
   "id": "793f0d58-c8ba-492f-a450-29654d0a754b",
   "metadata": {},
   "source": [
    "## Bringing it all together: Earthquake analysis\n",
    "\n",
    "To put the ideas above into practice, consider the following data, in the form of three lists, that describes the largest earthquakes in the world since 2025, that are also located on the ring of fire (Source: [Wikipedia](https://en.wikipedia.org/wiki/Lists_of_earthquakes))."
   ]
  },
  {
   "cell_type": "code",
   "execution_count": 20,
   "id": "0228a5a7-49a8-475a-a63a-bd07f8128e01",
   "metadata": {
    "tags": []
   },
   "outputs": [],
   "source": [
    "year = [2003, 2011, 2013,\n",
    "        2006, 2022,\n",
    "        2017, 2019, 2001, 2010, 2015,\n",
    "        2014, 2022, 2016,\n",
    "        2000, 2007, 2012, 2005, 2004]\n",
    "\n",
    "magn = [8.3, 9.1, 8.3,\n",
    "        8.3, 7.6,\n",
    "        8.2, 8.0, 8.4, 8.8, 8.3,\n",
    "        8.2, 7.6, 7.9,\n",
    "        8.0, 8.4, 8.6, 8.6, 9.1]\n",
    "\n",
    "site = ['Japan, Hokkaidō',\n",
    "        'Japan, Honshu',\n",
    "        'Russia, Sea of Okhotsk',\n",
    "        'Russia, Kuril Islands',\n",
    "        'Mexico, Michoacán',\n",
    "        'Mexico, Chiapas',\n",
    "        'Peru, Loreto',\n",
    "        'Peru, Arequipa',\n",
    "        'Chile, Concepción',\n",
    "        'Chile, Coquimbo',\n",
    "        'Chile, Iquique',\n",
    "        'Papua New Guinea, Morobe',\n",
    "        'Papua New Guinea, New Ireland',\n",
    "        'Papua New Guinea',\n",
    "        'Indonesia, Sumatra',\n",
    "        'Indonesia, Indian Ocean',\n",
    "        'Indonesia, Simeulue',\n",
    "        'Indonesia, Sumatra']"
   ]
  },
  {
   "cell_type": "markdown",
   "id": "7addd27e-f9c8-4966-83ce-df66a516c2ab",
   "metadata": {},
   "source": [
    "We can visualize the data in the following figure. Can you find an easy way to recreate this plot?\n",
    "\n",
    "![earthquake plot](./earthquakes.svg)"
   ]
  },
  {
   "cell_type": "markdown",
   "id": "f271fc40",
   "metadata": {},
   "source": [
    "<div style=\"background-color:#AABAB2; color: black; width: 95%; vertical-align: middle; padding:15px; margin: 10px; border-radius: 10px\">\n",
    "<p>\n",
    "<b>Task 7:</b>   \n",
    "    \n",
    "Using the tools described in this assignment, recreate the plot above. Note that to avoid cluttering the figure, the detailed earthquake information is only plotted for years that are a multiple of 5 (i.e., 2000, 2005, etc.).\n",
    "\n",
    "The code cell below already contains the required code to generate the svg file.\n",
    "</p>\n",
    "</div>"
   ]
  },
  {
   "cell_type": "markdown",
   "id": "f380a6f2-3de3-4e58-8495-cc4db2d5e232",
   "metadata": {},
   "source": [
    "**Hints:** create a for loop using 3 iterables (`x`, `y` and `z`) based on _one_ of these iterable tools: `range`, `enumerate` or `zip`. Use the modulo operator `%` to choose the 5-year multiples. An outline of the solution in pseudo-code is also provided here, each of which should be one line in your code (except item 5):\n",
    "```\n",
    "1  for each iterable item\n",
    "2     if the year is a multiple of 5\n",
    "3         create the label (string)\n",
    "4         annotate the plot (i.e., annotate(...))\n",
    "5  include any additional formatting (more than one line)\n",
    "```"
   ]
  },
  {
   "cell_type": "code",
   "execution_count": 21,
   "id": "de8d3186-1025-46f5-874b-16ef0a79c280",
   "metadata": {
    "tags": []
   },
   "outputs": [
    {
     "data": {
      "image/png": "[encoded data removed]",
      "text/plain": [
       "<Figure size 640x480 with 1 Axes>"
      ]
     },
     "metadata": {},
     "output_type": "display_data"
    }
   ],
   "source": [
    "plt.plot(year, magn, 'o')\n",
    "plt.stem(year, magn)\n",
    "\n",
    "\n",
    "for x, y, z in zip(year, magn, site):\n",
    "    if x%5 == 0:\n",
    "        label = f\"M_w = {y} in {x} at {z}\"\n",
    "        plt.annotate(label, \n",
    "                     (x,y), # these are the coordinates to position the label\n",
    "                     textcoords=\"offset points\", \n",
    "                     xytext=(15,50),\n",
    "                     fontsize=8,\n",
    "                     ha='left',\n",
    "                     rotation=35,\n",
    "                     arrowprops=dict(facecolor='black', shrink=0.1, width=0.5, headwidth=5)) \n",
    "plt.xlim(1999, 2025)\n",
    "plt.ylim(5,15)\n",
    "plt.xlabel('Year of Earthquake')\n",
    "plt.ylabel('Magnitude of Earthquake')\n",
    "plt.title('Biggest earthquakes each year since 2000 on Ring of Fire');\n",
    "plt.savefig('my_earthquake.svg') # Don't remove this line"
   ]
  },
  {
   "cell_type": "markdown",
   "id": "1a539d1b",
   "metadata": {},
   "source": [
    "**End of notebook.**\n",
    "\n",
    "<div style=\"margin-top: 50px; padding-top: 20px; border-top: 1px solid #ccc;\">\n",
    "  <div style=\"display: flex; justify-content: flex-end; gap: 20px; align-items: center;\">\n",
    "    <a rel=\"MUDE\" href=\"http://mude.citg.tudelft.nl/\">\n",
    "      <img alt=\"MUDE\" style=\"width:100px; height:auto;\" src=\"https://gitlab.tudelft.nl/mude/public/-/raw/main/mude-logo/MUDE_Logo-small.png\" />\n",
    "    </a>\n",
    "    <a rel=\"TU Delft\" href=\"https://www.tudelft.nl/en/ceg\">\n",
    "      <img alt=\"TU Delft\" style=\"width:100px; height:auto;\" src=\"https://gitlab.tudelft.nl/mude/public/-/raw/main/tu-logo/TU_P1_full-color.png\" />\n",
    "    </a>\n",
    "    <a rel=\"license\" href=\"http://creativecommons.org/licenses/by/4.0/\">\n",
    "      <img alt=\"Creative Commons License\" style=\"width:88px; height:auto;\" src=\"https://i.creativecommons.org/l/by/4.0/88x31.png\" />\n",
    "    </a>\n",
    "  </div>\n",
    "  <div style=\"font-size: 75%; margin-top: 10px; text-align: right;\">\n",
    "    &copy; Copyright 2024 <a rel=\"MUDE\" href=\"http://mude.citg.tudelft.nl/\">MUDE</a> TU Delft. \n",
    "    This work is licensed under a <a rel=\"license\" href=\"http://creativecommons.org/licenses/by/4.0/\">CC BY 4.0 License</a>.\n",
    "  </div>\n",
    "</div>\n",
    "\n",
    "\n",
    "<!--tested with WS_2_8_solution.ipynb-->"
   ]
  }
 ],
 "metadata": {
  "kernelspec": {
   "display_name": "mude-base",
   "language": "python",
   "name": "python3"
  },
  "language_info": {
   "codemirror_mode": {
    "name": "ipython",
    "version": 3
   },
   "file_extension": ".py",
   "mimetype": "text/x-python",
   "name": "python",
   "nbconvert_exporter": "python",
   "pygments_lexer": "ipython3",
   "version": "3.12.4"
  },
  "widgets": {
   "application/vnd.jupyter.widget-state+json": {
    "state": {},
    "version_major": 2,
    "version_minor": 0
   }
  }
 },
 "nbformat": 4,
 "nbformat_minor": 5
}
