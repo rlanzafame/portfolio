{
 "cells": [
  {
   "cell_type": "markdown",
   "id": "81475e62",
   "metadata": {},
   "source": [
    "# WS 2.3: Discrete Fourier Transform (DFT): You Try Meow (Miauw)\n",
    "\n",
    "<h1 style=\"position: absolute; display: flex; flex-grow: 0; flex-shrink: 0; flex-direction: row-reverse; top: 60px;right: 30px; margin: 0; border: 0\">\n",
    "    <style>\n",
    "        .markdown {width:100%; position: relative}\n",
    "        article { position: relative }\n",
    "    </style>\n",
    "    <img src=\"https://gitlab.tudelft.nl/mude/public/-/raw/main/tu-logo/TU_P1_full-color.png\" style=\"width:100px\" />\n",
    "    <img src=\"https://gitlab.tudelft.nl/mude/public/-/raw/main/mude-logo/MUDE_Logo-small.png\" style=\"width:100px\" />\n",
    "</h1>\n",
    "<h2 style=\"height: 10px\">\n",
    "</h2>\n",
    "\n",
    "*[CEGM1000 MUDE](http://mude.citg.tudelft.nl/): Week 2.3, Signal Processing. For: November 27, 2024*"
   ]
  },
  {
   "cell_type": "markdown",
   "id": "eff9791a",
   "metadata": {},
   "source": [
    "The goal of this workshop to work with the _Discrete Fourier Transform_ (DFT), implemented in Python as the _Fast Fourier Transform_ (FFT) through `np.fft.fft`, and to understand and interpret its output.\n",
    "\n",
    "The notebook consists of two parts:\n",
    "- The first part (Task 0) is a demonstration of the use of the DFT (_you read and execute the code cells_),\n",
    "- The second part is a simple exercise with the DFT (_you write the code_).\n",
    "\n",
    "To start off, let's do a quick quiz question: _what is the primary purpose of the DFT?_\n",
    "\n",
    "_Run the code cell below to find the answer._"
   ]
  },
  {
   "cell_type": "code",
   "execution_count": null,
   "id": "36a05bbd-69a1-4805-a4ad-e84de89de560",
   "metadata": {
    "tags": []
   },
   "outputs": [],
   "source": [
    "%%html\n",
    "<iframe src=\"https://tudelft.h5p.com/content/1292126914399042257/embed\" aria-label=\"Meow\" width=\"1088\" height=\"637\" frameborder=\"0\" allowfullscreen=\"allowfullscreen\" allow=\"autoplay *; geolocation *; microphone *; camera *; midi *; encrypted-media *\"></iframe><script src=\"https://tudelft.h5p.com/js/h5p-resizer.js\" charset=\"UTF-8\"></script>"
   ]
  },
  {
   "cell_type": "markdown",
   "id": "03f3b3c6-d3f6-4121-9f39-c30c8bf70ea5",
   "metadata": {},
   "source": [
    "That's right! We convert our signal into the frequency domain.\n",
    "\n",
    "And if you would like an additional explanation of the key frequencies, you can find it [here](https://medium.com/@kovalenko.alx/fun-with-fourier-591662576a77)."
   ]
  },
  {
   "cell_type": "markdown",
   "id": "bfca25a5-75ce-4837-9387-01f95be10bd0",
   "metadata": {
    "id": "0491cc69"
   },
   "source": [
    "<div style=\"background-color:#facb8e; color: black; vertical-align: middle; padding:15px; margin: 10px; border-radius: 10px; width: 95%\"> <p>Note the use of <code>zip</code>, <code>stem</code>, <code>annotate</code> and the modulo operator\n",
    "<code>%</code>. Refer to PA 2.3 if you do not understand these tools. Furthermore, note that the term _modulus_ is also used here (and in the textbook), which is another term for _absolute value._</p></div>"
   ]
  },
  {
   "cell_type": "code",
   "execution_count": null,
   "id": "da13fbf3",
   "metadata": {
    "tags": []
   },
   "outputs": [],
   "source": [
    "import numpy as np\n",
    "from matplotlib import pyplot as plt"
   ]
  },
  {
   "cell_type": "markdown",
   "id": "13234855",
   "metadata": {},
   "source": [
    "## Task 0: Demonstration of DFT using pulse function\n",
    "\n",
    "In the first part of this notebook, we use  $x(t)=\\Pi(\\frac{t}{4})$, and its Fourier transform $X(f)=4 \\,\\textrm{sinc}(4f)$, as an example (see the first worked example in Chapter 3 on the Fourier transform). The pulse lasts for 4 seconds in the time domain; for convenience, below it is not centered at $t$ = 0, but shifted (delayed) to the right.\n",
    "\n",
    "The signal $x(t)$ clearly is non-periodic and is an energy signal; apart from a short time span of 'activity' it is zero elsewhere.\n",
    "\n",
    "We create a pulse function $x(t)$ in discrete time $x_n$ by numpy. The total signal duration is $T$ = 20 seconds (observation or record length). The sampling interval is $\\Delta t$ = 1 second. There are $N$ = 20 samples, and each sample represents 1 second, hence $N \\Delta t = T$.\n",
    "\n",
    "Note that the time array starts at $t$ = 0 s, and hence, the last sample is at $t$ = 19 s (and not at $t$ = 20 s, as then we would have 21 samples).\n",
    "\n",
    "### Task 0.1: Visualize the Signal"
   ]
  },
  {
   "cell_type": "code",
   "execution_count": null,
   "id": "b33e1be2",
   "metadata": {
    "tags": []
   },
   "outputs": [],
   "source": [
    "t = np.arange(0,20,1)\n",
    "xt = np.concatenate((np.zeros(8), np.ones(4), np.zeros(8)))\n",
    "\n",
    "plt.plot(t, xt,'o')\n",
    "plt.stem(t[8:12], xt[8:12]) \n",
    "plt.xticks(ticks=np.arange(0,21,5), labels=np.arange(0,21,5))\n",
    "plt.xlabel('time [s]')\n",
    "plt.ylabel('xn');"
   ]
  },
  {
   "cell_type": "markdown",
   "id": "a338eede",
   "metadata": {},
   "source": [
    "### Task 0.2: Evaluate (and visualize) the DFT\n",
    "\n",
    "We use `numpy.fft.fft` to compute the one-dimensional Discrete Fourier Transform (DFT) of $x_n$, which takes a signal as argument and returns an array of coefficients (refer to the [documentation](https://numpy.org/doc/stable/reference/generated/numpy.fft.fft.html) as needed).\n",
    "\n",
    "The DFT converts $N$ samples of the time domain signal $x_n$, into $N$ samples of the frequency domain. In this case, it produces $X_k$ with $k = 0, 1, 2, \\ldots, N-1$, with $N$ = 20, which are complex numbers. "
   ]
  },
  {
   "cell_type": "markdown",
   "id": "26d0f558-caa7-41f2-9477-60d74940fc10",
   "metadata": {},
   "source": [
    "<div style=\"background-color:#AABAB2; color: black; vertical-align: middle; padding:15px; margin: 10px; border-radius: 10px; width: 95%\">\n",
    "<p>\n",
    "<b>Task 0.2:</b>   \n",
    "Read the code cell below before executing it and identify the following:\n",
    "<ol>\n",
    "    <li>Where is the DFT computed, and what is the output?</li>\n",
    "    <li>Why is the modulus (absolute value) used on the DFT output?</li>\n",
    "    <li>What are the values are used for the x and y axes of the plot?</li>\n",
    "    <li>How is frequency information found and added to the plot (mathematically)?</li>\n",
    "</ol>\n",
    "Once you understand the figure, continue reading to understand <em>what do these 20 complex numbers mean, and how should we interpret them?</em>\n",
    "</p>\n",
    "</div>"
   ]
  },
  {
   "cell_type": "code",
   "execution_count": null,
   "id": "3acb465b",
   "metadata": {
    "tags": []
   },
   "outputs": [],
   "source": [
    "abs_fft = np.abs(np.fft.fft(xt))\n",
    "index_fft = np.arange(0,20,1)\n",
    "plt.plot(index_fft, abs_fft, 'o')\n",
    "\n",
    "freq = np.arange(0, 1, 0.05)\n",
    "for x,y in zip(index_fft, abs_fft):\n",
    "    if x%5 == 0 or x==19:\n",
    "        label = f\"f={freq[x]:.2f} Hz\"\n",
    "        plt.annotate(label, \n",
    "                     (x,y),\n",
    "                     textcoords=\"offset points\", \n",
    "                     xytext=(0,10),\n",
    "                     fontsize=10,\n",
    "                     ha='center') \n",
    "plt.ylim(0,5)\n",
    "plt.xlim(-2,21)\n",
    "plt.xlabel('fft-index')\n",
    "plt.ylabel('$|X_k|$')\n",
    "plt.stem(index_fft, abs_fft);"
   ]
  },
  {
   "cell_type": "markdown",
   "id": "09c72cdd",
   "metadata": {},
   "source": [
    "The frequency resolution $\\Delta f$ equals one-over-the-measurement-duration, hence $\\Delta f = 1/T$. With that knowledge, we can reconstruct the frequencies expressed in Hertz.\n",
    "\n",
    "The spectrum of the sampled signal is periodic in the sampling frequency $f_s$ which equals 1 Hz ($\\Delta t$ = 1 s). Therefore, it is computed just for one period $[0,f_s)$. The last value, with index 19, represents the component with frequency $f$ = 0.95 Hz. A spectrum is commonly presented and interpreted as double-sided, so in the above graph we can interpret the spectral components with indices 10 to 19 corresponding to negative frequencies. \n",
    "\n",
    "### Task 0.3: Identify negative frequencies"
   ]
  },
  {
   "cell_type": "code",
   "execution_count": null,
   "id": "df1f483b",
   "metadata": {
    "tags": []
   },
   "outputs": [],
   "source": [
    "abs_fft = np.abs(np.fft.fft(xt))\n",
    "plt.stem(index_fft, abs_fft)\n",
    "plt.plot(index_fft, abs_fft, 'o')\n",
    "\n",
    "freq = np.concatenate((np.arange(0, 0.5, 0.05), np.arange(-0.5, 0, 0.05)))\n",
    "for x,y in zip(index_fft, abs_fft):\n",
    "    if x%5 == 0 or x==19:\n",
    "        label = f\"f={freq[x]:.2f} Hz\"\n",
    "        plt.annotate(label, \n",
    "                     (x,y),\n",
    "                     textcoords=\"offset points\", \n",
    "                     xytext=(0,10),\n",
    "                     fontsize=10,\n",
    "                     ha='center') \n",
    "plt.ylim(0,5)\n",
    "plt.xlim(-2,21)\n",
    "plt.xlabel('fft-index')\n",
    "plt.ylabel('$|X_k|$');"
   ]
  },
  {
   "cell_type": "markdown",
   "id": "2d87a9a6",
   "metadata": {
    "tags": []
   },
   "source": [
    "Now we can interpret the DFT of the $x(t)=\\Pi(\\frac{t}{4})$. The sampling interval is $\\Delta t$ = 1 second, and the obsesrvation length is T=20 seconds, and we have N=20 samples.  \n",
    "- We can recognize a bit of a sinc function.\n",
    "- The DFT is computed from 0 Hz, for positive frequencies up to $\\frac{fs}{2} = 0.5$ Hz, after which the negative frequencies follow from -0.5 to -0.05 Hz.\n",
    "- $X(f)=4 \\textrm{sinc}(4f)$ has its first null at $f=0.25$Hz.\n",
    "\n",
    "### Task 0.4: Create symmetric plot\n",
    "\n",
    "For convenient visualization, we may want to explicitly shift the negative frequencies to the left-hand side to create a symmetric plot. We can use `numpy.fft.fftshift` to do that. In other words, the zero-frequency component appears in the center of the spectrum. Now, it nicely shows a symmetric sprectrum. It well resembles the sinc-function (taking into account that we plot the modulus/absolute value). The output of the DFT still consists of $N$ = 20 elements. To enable this, we set up a new frequency array (in Hz) on the interval $[-fs/2,fs/2)$."
   ]
  },
  {
   "cell_type": "markdown",
   "id": "e1eef6b6-1e90-43db-b059-6521b2a840d3",
   "metadata": {},
   "source": [
    "<div style=\"background-color:#AABAB2; color: black; vertical-align: middle; padding:15px; margin: 10px; border-radius: 10px; width: 95%\">\n",
    "<p>\n",
    "<b>Task 0.4:</b>   \n",
    "Read the code cell below before executing it and identify how the plot is modified based on the (new) specification of frequency. Note that it is more than just the <code>freq</code> variable!\n",
    "</p>\n",
    "</div>"
   ]
  },
  {
   "cell_type": "code",
   "execution_count": null,
   "id": "a8aac894",
   "metadata": {
    "tags": []
   },
   "outputs": [],
   "source": [
    "abs_fft_shift = np.abs(np.fft.fftshift(np.fft.fft(xt)))\n",
    "freq = np.arange(-0.5, 0.5, 0.05)\n",
    "plt.stem(freq, abs_fft_shift)\n",
    "plt.plot(freq, abs_fft_shift, 'o')\n",
    "plt.ylabel('|Xk|')\n",
    "plt.xlabel('frequency [Hz]');"
   ]
  },
  {
   "cell_type": "markdown",
   "id": "569ca2d3",
   "metadata": {},
   "source": [
    "### Task 0.5: Showing spectrum only for positive frequencies\n",
    "\n",
    "In practice, because of the symmetry, one typically plots only the right-hand side of the (double-sided) spectrum, hence only the part for positive frequencies $f \\geq 0$. This is simply a matter of preference, and a way to save some space."
   ]
  },
  {
   "cell_type": "markdown",
   "id": "a26e361d-c5fa-47a2-b32c-416cc3d10659",
   "metadata": {},
   "source": [
    "<div style=\"background-color:#AABAB2; color: black; vertical-align: middle; padding:15px; margin: 10px; border-radius: 10px; width: 95%\">\n",
    "<p>\n",
    "<b>Task 0.5:</b>   \n",
    "Can you identify what has changed (in the code and visually), compared to the previous plot?\n",
    "</p>\n",
    "</div>"
   ]
  },
  {
   "cell_type": "code",
   "execution_count": null,
   "id": "b9608638",
   "metadata": {
    "tags": []
   },
   "outputs": [],
   "source": [
    "N=len(xt)\n",
    "abs_fft = np.abs(np.fft.fft(xt))\n",
    "freq = np.arange(0.0, 1.0, 0.05)\n",
    "plt.plot(freq[:int(N/2)], abs_fft[:int(N/2)], 'o')\n",
    "plt.stem(freq[:int(N/2)], abs_fft[:int(N/2)])\n",
    "plt.ylabel('$|X_k|$')\n",
    "plt.xlabel('frequency [Hz]');"
   ]
  },
  {
   "cell_type": "markdown",
   "id": "83c4ca67-9234-4741-a56f-294a12bcd98a",
   "metadata": {},
   "source": [
    "<div style=\"background-color:#AABAB2; color: black; vertical-align: middle; padding:15px; margin: 10px; border-radius: 10px; width: 95%\">\n",
    "<p>\n",
    "<b>Task 0.6:</b>   \n",
    "Confirm that you understand how we have arrived at the plot above, which illustrates the magnitude (amplitude) spectrum for frequencies $f \\in [0,f_s/2)$, rather than $[0,f_s)$.\n",
    "</p>\n",
    "</div>"
   ]
  },
  {
   "cell_type": "markdown",
   "id": "9f5558b4",
   "metadata": {},
   "source": [
    "## Task 1: Application of DFT using simple cosine"
   ]
  },
  {
   "cell_type": "markdown",
   "id": "46dd5c0c",
   "metadata": {},
   "source": [
    "It is always a good idea, in spectral analysis, to run a test with a very simple, basic signal. In this way you can test and verify your coding and interpretation of the results. \n",
    "\n",
    "Our basic signal is just a plain cosine. We take the amplitude equal to one, and zero initial phase, so the signal reads $x(t) = \\cos(2 \\pi f_c t)$, with $f_c$ = 3 Hz in this exercise. With such a simple signal, we know in advance how the spectrum should look like. Namely just a spike at $f$ = 3 Hz, and also one at $f$ = -3 Hz, as we're, for mathematical convenience, working with double sided spectra. The spectrum should be zero at all other frequencies.\n",
    "\n",
    "As a side note: the cosine is strictly a periodic function, not a-periodic (as above); still, the Fourier transform of the cosine is defined as two Dirac delta pulses or peaks (at 3 Hz and -3 Hz). You may want to check out the second worked example in Chapter 3 on the Fourier transform: Fourier transform in the limit."
   ]
  },
  {
   "cell_type": "markdown",
   "id": "87de3cc5",
   "metadata": {},
   "source": [
    "<div style=\"background-color:#AABAB2; color: black; vertical-align: middle; padding:15px; margin: 10px; border-radius: 10px; width: 95%\">\n",
    "<p>\n",
    "<b>Task 1:</b>   \n",
    "    \n",
    "Create a sampled (discrete time) cosine signal by sampling at $f_s$ = 10 Hz, for a duration of $T$ = 2 seconds (make sure you use exactly $N$ = 20 samples). Plot the sampled signal, compute its DFT and plot its magnitude spectrum $|X_k|$ with proper labeling of the axes (just like we did in the first part of this notebook). Include a plot of the spectrum of the sampled cosine signal using only the positive frequencies (up to $f_s/2$, as in the last plot of the previous task).\n",
    "\n",
    "<em>Note: you are expected to produce three separate plots.</em>\n",
    "</p>\n",
    "</div>"
   ]
  },
  {
   "cell_type": "code",
   "execution_count": null,
   "id": "28ad034e",
   "metadata": {},
   "outputs": [],
   "source": [
    "YOUR_CODE_HERE_PLOT_1"
   ]
  },
  {
   "cell_type": "code",
   "execution_count": null,
   "id": "af87d120",
   "metadata": {},
   "outputs": [],
   "source": [
    "YOUR_CODE_HERE_PLOT_2"
   ]
  },
  {
   "cell_type": "code",
   "execution_count": null,
   "id": "6fd9014c",
   "metadata": {},
   "outputs": [],
   "source": [
    "YOUR_CODE_HERE_PLOT_3"
   ]
  },
  {
   "cell_type": "markdown",
   "id": "2387e059",
   "metadata": {},
   "source": [
    "**End of notebook.**\n",
    "\n",
    "<div style=\"margin-top: 50px; padding-top: 20px; border-top: 1px solid #ccc;\">\n",
    "  <div style=\"display: flex; justify-content: flex-end; gap: 20px; align-items: center;\">\n",
    "    <a rel=\"MUDE\" href=\"http://mude.citg.tudelft.nl/\">\n",
    "      <img alt=\"MUDE\" style=\"width:100px; height:auto;\" src=\"https://gitlab.tudelft.nl/mude/public/-/raw/main/mude-logo/MUDE_Logo-small.png\" />\n",
    "    </a>\n",
    "    <a rel=\"TU Delft\" href=\"https://www.tudelft.nl/en/ceg\">\n",
    "      <img alt=\"TU Delft\" style=\"width:100px; height:auto;\" src=\"https://gitlab.tudelft.nl/mude/public/-/raw/main/tu-logo/TU_P1_full-color.png\" />\n",
    "    </a>\n",
    "    <a rel=\"license\" href=\"http://creativecommons.org/licenses/by/4.0/\">\n",
    "      <img alt=\"Creative Commons License\" style=\"width:88px; height:auto;\" src=\"https://i.creativecommons.org/l/by/4.0/88x31.png\" />\n",
    "    </a>\n",
    "  </div>\n",
    "  <div style=\"font-size: 75%; margin-top: 10px; text-align: right;\">\n",
    "    &copy; Copyright 2024 <a rel=\"MUDE\" href=\"http://mude.citg.tudelft.nl/\">MUDE</a> TU Delft. \n",
    "    This work is licensed under a <a rel=\"license\" href=\"http://creativecommons.org/licenses/by/4.0/\">CC BY 4.0 License</a>.\n",
    "  </div>\n",
    "</div>\n",
    "\n",
    "\n",
    "<!--tested with WS_2_8_solution.ipynb-->"
   ]
  }
 ],
 "metadata": {
  "kernelspec": {
   "display_name": "Python 3 (ipykernel)",
   "language": "python",
   "name": "python3"
  },
  "language_info": {
   "codemirror_mode": {
    "name": "ipython",
    "version": 3
   },
   "file_extension": ".py",
   "mimetype": "text/x-python",
   "name": "python",
   "nbconvert_exporter": "python",
   "pygments_lexer": "ipython3",
   "version": "3.11.4"
  },
  "latex_envs": {
   "LaTeX_envs_menu_present": true,
   "autoclose": false,
   "autocomplete": true,
   "bibliofile": "biblio.bib",
   "cite_by": "apalike",
   "current_citInitial": 1,
   "eqLabelWithNumbers": true,
   "eqNumInitial": 1,
   "hotkeys": {
    "equation": "Ctrl-E",
    "itemize": "Ctrl-I"
   },
   "labels_anchors": false,
   "latex_user_defs": false,
   "report_style_numbering": false,
   "user_envs_cfg": false
  },
  "widgets": {
   "application/vnd.jupyter.widget-state+json": {
    "state": {},
    "version_major": 2,
    "version_minor": 0
   }
  }
 },
 "nbformat": 4,
 "nbformat_minor": 5
}
